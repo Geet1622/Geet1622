{
  "nbformat": 4,
  "nbformat_minor": 0,
  "metadata": {
    "colab": {
      "private_outputs": true,
      "provenance": [],
      "collapsed_sections": [
        "w6K7xa23Elo4",
        "MSa1f5Uengrz",
        "gIfDvo9L0UH2"
      ],
      "cell_execution_strategy": "setup",
      "include_colab_link": true
    },
    "kernelspec": {
      "name": "python3",
      "display_name": "Python 3"
    },
    "language_info": {
      "name": "python"
    }
  },
  "cells": [
    {
      "cell_type": "markdown",
      "metadata": {
        "id": "view-in-github",
        "colab_type": "text"
      },
      "source": [
        "<a href=\"https://colab.research.google.com/github/Geet1622/Geet1622/blob/main/HOTEL_BOOKING_ANALYSIS_NEW.ipynb\" target=\"_parent\"><img src=\"https://colab.research.google.com/assets/colab-badge.svg\" alt=\"Open In Colab\"/></a>"
      ]
    },
    {
      "cell_type": "markdown",
      "source": [
        "# **Project Name**    -\n",
        "\n"
      ],
      "metadata": {
        "id": "vncDsAP0Gaoa"
      }
    },
    {
      "cell_type": "markdown",
      "source": [
        "##### **Project Type**    - EDA\n",
        "##### **Contribution**    - Individual\n",
        "##### **Team Member 1 -**  Geetanjali Wagh\n"
      ],
      "metadata": {
        "id": "beRrZCGUAJYm"
      }
    },
    {
      "cell_type": "markdown",
      "source": [
        "# **Project Summary -**"
      ],
      "metadata": {
        "id": "FJNUwmbgGyua"
      }
    },
    {
      "cell_type": "markdown",
      "source": [
        "The project aims to analyze hotel booking data to gain insights and inform decision making in the hotel industry. Here's a brief summary of the project based on the sources provided:\n",
        "\n",
        "Data Cleaning: The first step in this project is data cleaning. The dataset used in this project is relatively clean with few missing values. However, these missing values need to be handled properly before proceeding further with the analysis. The dataset includes various features like cancellation status, lead time, arrival date, duration of stay, number of adults, children, and babies, meal type, country of origin, market segment, distribution channel, previous cancellations, and bookings, reserved room type, assigned room type, booking changes, deposit type, agent, company, days in waiting list, customer type, average daily rate (ADR), required car parking spaces, total number of special requests, reservation status, and reservation status date dacss. Exploratory Data Analysis (EDA): The next step is to perform exploratory data analysis to understand the structure of the dataset and identify important variables. This involves comparing the target variable with other independent variables to get insights into their relationship. This helps in understanding how different variables affect the target variable. Visualization of Insights: After the analysis, visualization techniques are used to present the findings graphically. Different types of charts like pie charts, bar charts, scatterplots, and displots are used to represent complex insights in an eye-catching manner.\n",
        "\n",
        "Drawing Conclusions and Finding Answers: The final step is to draw conclusions from the analysis and find answers to the questions asked at the start of the project. This helps in getting actionable insights into the hotel industry. The project also aims to provide suggestions based on these insights to build a sound marketing strategy github.com. Project Objectives: The project aims to answer several research questions revolving around various aspects of hotel bookings, such as booking patterns, customer demographics, and factors influencing booking cancellations. These questions are designed to guide the analysis and provide a clear and understandable narrative for individuals without prior expertise in the field."
      ],
      "metadata": {
        "id": "F6v_1wHtG2nS"
      }
    },
    {
      "cell_type": "markdown",
      "source": [
        "# **GitHub Link -**"
      ],
      "metadata": {
        "id": "w6K7xa23Elo4"
      }
    },
    {
      "cell_type": "markdown",
      "source": [
        "Provide your GitHub Link here."
      ],
      "metadata": {
        "id": "h1o69JH3Eqqn"
      }
    },
    {
      "cell_type": "markdown",
      "source": [
        "# **Problem Statement**\n"
      ],
      "metadata": {
        "id": "yQaldy8SH6Dl"
      }
    },
    {
      "cell_type": "markdown",
      "source": [
        "Problem Statement - The Hotel Booking Analysis EDA project aims to conduct a comprehensive exploratory data analysis on a dataset containing 1,19,390 rows and various attributes related to hotel bookings. The objective is to extract meaningful insights and identify key patterns, trends, and factors influencing hotel bookings. The project seeks to address the following questions:\n",
        "\n",
        "1). How does lead time (the time between booking and arrival) affect booking behavior, and what strategies can be implemented to optimize room availability and pricing?\n",
        "\n",
        "2).Can customer segmentation based on demographics, market segments, or customer types provide valuable insights to personalize services and enhance customer satisfaction?\n",
        "\n",
        "3).What are the most popular room types, meal preferences, and special requests made by guests, and how can hotels use this information to tailor their offerings to meet customer expectations?\n",
        "\n",
        "4).How does the seasonality of hotel bookings influence business performance, and what measures can be taken to address fluctuations in demand?"
      ],
      "metadata": {
        "id": "DpeJGUA3kjGy"
      }
    },
    {
      "cell_type": "markdown",
      "source": [
        "**Define Your Business Objective?**\n",
        "The business objectives for a hotel bookings Exploratory Data Analysis (EDA) project can vary depending on the specific goals of the project. However, the main goal is usually to gain insights from the data that can be used to make informed decisions and drive strategic business outcomes. Here are some potential business objectives based on the sources provided:\n",
        "\n",
        "Identify Booking Trends: The main goal of the EDA could be to identify trends in hotel bookings. This might include understanding the booking ratio between different types of hotels (e.g., city hotels vs. resort hotels), the most popular times of the year for bookings, and the most common duration of stay. This information can help the company shape its marketing and operational strategies.\n",
        "\n",
        "Understand Customer Demographics: Another objective could be to understand the demographics of the guests, such as their country of origin, customer type, and the most booked accommodation type (single, couple, family). This can help the hotel in targeting the right audience for its marketing and sales efforts.\n",
        "\n",
        "Predict Booking Cancellations: The EDA could also aim to build a predictive model to forecast booking cancellations. This can help the hotel manage its inventory better and reduce the impact of last-minute cancellations analyticsvidhya.com, nycdatascience.com. Inform Pricing Strategy: By analyzing booking patterns and demand trends, the EDA can help inform dynamic pricing strategies. This can help maximize revenue and profitability.\n",
        "\n",
        "Improve Inventory Management: The EDA can also be used to improve inventory management by identifying usage trends. This can help the hotel maintain a balance of inventory, ensuring it neither runs out of inventory nor has an excess of it at any point linkedin.com. In conclusion, the business objectives for a hotel bookings EDA project can be varied and multifaceted, depending on the specific needs and goals of the organization. The ultimate goal is to use the insights gained from the EDA to drive strategic decision-making and business outcomes."
      ],
      "metadata": {
        "id": "PH-0ReGfmX4f"
      }
    },
    {
      "cell_type": "markdown",
      "source": [
        "# **General Guidelines** : -  "
      ],
      "metadata": {
        "id": "mDgbUHAGgjLW"
      }
    },
    {
      "cell_type": "markdown",
      "source": [
        "1.   Well-structured, formatted, and commented code is required.\n",
        "2.   Exception Handling, Production Grade Code & Deployment Ready Code will be a plus. Those students will be awarded some additional credits.\n",
        "     \n",
        "     The additional credits will have advantages over other students during Star Student selection.\n",
        "       \n",
        "             [ Note: - Deployment Ready Code is defined as, the whole .ipynb notebook should be executable in one go\n",
        "                       without a single error logged. ]\n",
        "\n",
        "3.   Each and every logic should have proper comments.\n",
        "4. You may add as many number of charts you want. Make Sure for each and every chart the following format should be answered.\n",
        "        \n",
        "\n",
        "```\n",
        "# Chart visualization code\n",
        "```\n",
        "            \n",
        "\n",
        "*   Why did you pick the specific chart?\n",
        "*   What is/are the insight(s) found from the chart?\n",
        "* Will the gained insights help creating a positive business impact?\n",
        "Are there any insights that lead to negative growth? Justify with specific reason.\n",
        "\n",
        "5. You have to create at least 20 logical & meaningful charts having important insights.\n",
        "\n",
        "\n",
        "[ Hints : - Do the Vizualization in  a structured way while following \"UBM\" Rule.\n",
        "\n",
        "U - Univariate Analysis,\n",
        "\n",
        "B - Bivariate Analysis (Numerical - Categorical, Numerical - Numerical, Categorical - Categorical)\n",
        "\n",
        "M - Multivariate Analysis\n",
        " ]\n",
        "\n",
        "\n",
        "\n"
      ],
      "metadata": {
        "id": "ZrxVaUj-hHfC"
      }
    },
    {
      "cell_type": "markdown",
      "source": [
        "# ***Let's Begin !***"
      ],
      "metadata": {
        "id": "O_i_v8NEhb9l"
      }
    },
    {
      "cell_type": "markdown",
      "source": [
        "## ***1. Know Your Data***"
      ],
      "metadata": {
        "id": "HhfV-JJviCcP"
      }
    },
    {
      "cell_type": "markdown",
      "source": [
        "### Import Libraries"
      ],
      "metadata": {
        "id": "Y3lxredqlCYt"
      }
    },
    {
      "cell_type": "code",
      "source": [
        "# Import Libraries\n",
        "import numpy as np\n",
        "import pandas as pd\n",
        "import seaborn as sns\n",
        "import matplotlib.pyplot as plt"
      ],
      "metadata": {
        "id": "M8Vqi-pPk-HR"
      },
      "execution_count": null,
      "outputs": []
    },
    {
      "cell_type": "markdown",
      "source": [
        "### Dataset Loading"
      ],
      "metadata": {
        "id": "3RnN4peoiCZX"
      }
    },
    {
      "cell_type": "code",
      "source": [
        "# Load Dataset\n",
        "hotelbookings= pd. read_csv('/content/Hotel Bookings (2).csv')"
      ],
      "metadata": {
        "id": "4CkvbW_SlZ_R"
      },
      "execution_count": null,
      "outputs": []
    },
    {
      "cell_type": "markdown",
      "source": [
        "### Dataset First View"
      ],
      "metadata": {
        "id": "x71ZqKXriCWQ"
      }
    },
    {
      "cell_type": "code",
      "source": [
        "# Dataset First Look\n",
        "hotelbookings.head()"
      ],
      "metadata": {
        "id": "LWNFOSvLl09H"
      },
      "execution_count": null,
      "outputs": []
    },
    {
      "cell_type": "code",
      "source": [
        "hotelbookings.tail()"
      ],
      "metadata": {
        "id": "MOA-Ko7HxLzO"
      },
      "execution_count": null,
      "outputs": []
    },
    {
      "cell_type": "markdown",
      "source": [
        "### Dataset Rows & Columns count"
      ],
      "metadata": {
        "id": "7hBIi_osiCS2"
      }
    },
    {
      "cell_type": "code",
      "source": [
        "# Dataset Rows & Columns count\n",
        "hotelbookings.shape"
      ],
      "metadata": {
        "id": "Kllu7SJgmLij"
      },
      "execution_count": null,
      "outputs": []
    },
    {
      "cell_type": "markdown",
      "source": [
        "### Dataset Information"
      ],
      "metadata": {
        "id": "JlHwYmJAmNHm"
      }
    },
    {
      "cell_type": "code",
      "source": [
        "# Dataset Info\n",
        "hotelbookings.info()"
      ],
      "metadata": {
        "id": "e9hRXRi6meOf"
      },
      "execution_count": null,
      "outputs": []
    },
    {
      "cell_type": "markdown",
      "source": [
        "#### Duplicate Values"
      ],
      "metadata": {
        "id": "35m5QtbWiB9F"
      }
    },
    {
      "cell_type": "code",
      "source": [
        "# Dataset Duplicate Value Count\n",
        "hotelbookings.duplicated().sum()"
      ],
      "metadata": {
        "id": "1sLdpKYkmox0"
      },
      "execution_count": null,
      "outputs": []
    },
    {
      "cell_type": "code",
      "source": [
        "hotelbookings.duplicated().value_counts()"
      ],
      "metadata": {
        "id": "YDdOHKTsxeUk"
      },
      "execution_count": null,
      "outputs": []
    },
    {
      "cell_type": "markdown",
      "source": [
        "#### Missing Values/Null Values"
      ],
      "metadata": {
        "id": "PoPl-ycgm1ru"
      }
    },
    {
      "cell_type": "code",
      "source": [
        "# Missing Values/Null Values Count\n",
        "hotelbookings.isnull().sum()"
      ],
      "metadata": {
        "id": "GgHWkxvamxVg"
      },
      "execution_count": null,
      "outputs": []
    },
    {
      "cell_type": "code",
      "source": [
        "# Visualizing the missing values\n",
        "import missingno as msno\n",
        "msno.bar(hotelbookings)"
      ],
      "metadata": {
        "id": "3q5wnI3om9sJ"
      },
      "execution_count": null,
      "outputs": []
    },
    {
      "cell_type": "markdown",
      "source": [
        "### What did you know about your dataset?"
      ],
      "metadata": {
        "id": "H0kj-8xxnORC"
      }
    },
    {
      "cell_type": "markdown",
      "source": [
        "Answer Here"
      ],
      "metadata": {
        "id": "gfoNAAC-nUe_"
      }
    },
    {
      "cell_type": "markdown",
      "source": [
        "## ***2. Understanding Your Variables***"
      ],
      "metadata": {
        "id": "nA9Y7ga8ng1Z"
      }
    },
    {
      "cell_type": "code",
      "source": [
        "# Dataset Columns\n",
        "hotelbookings.columns"
      ],
      "metadata": {
        "id": "j7xfkqrt5Ag5"
      },
      "execution_count": null,
      "outputs": []
    },
    {
      "cell_type": "code",
      "source": [
        "# Dataset Describe\n",
        "hotelbookings.describe()"
      ],
      "metadata": {
        "id": "DnOaZdaE5Q5t"
      },
      "execution_count": null,
      "outputs": []
    },
    {
      "cell_type": "markdown",
      "source": [
        "### Variables Description"
      ],
      "metadata": {
        "id": "PBTbrJXOngz2"
      }
    },
    {
      "cell_type": "markdown",
      "source": [
        "Answer Here"
      ],
      "metadata": {
        "id": "aJV4KIxSnxay"
      }
    },
    {
      "cell_type": "markdown",
      "source": [
        "### Check Unique Values for each variable."
      ],
      "metadata": {
        "id": "u3PMJOP6ngxN"
      }
    },
    {
      "cell_type": "code",
      "source": [
        "# Check Unique Values for each variable.\n",
        "\n",
        "for i in hotelbookings.select_dtypes(include=\"object\").columns:\n",
        "  print (i)\n",
        "\n",
        "  print(hotelbookings[i].unique())"
      ],
      "metadata": {
        "id": "zms12Yq5n-jE"
      },
      "execution_count": null,
      "outputs": []
    },
    {
      "cell_type": "markdown",
      "source": [
        "## 3. ***Data Wrangling***"
      ],
      "metadata": {
        "id": "dauF4eBmngu3"
      }
    },
    {
      "cell_type": "markdown",
      "source": [
        "### Data Wrangling Code"
      ],
      "metadata": {
        "id": "bKJF3rekwFvQ"
      }
    },
    {
      "cell_type": "code",
      "source": [
        "# Write your code to make your dataset analysis ready.\n",
        "# first getting what to look at\n",
        "hotelbookings.head()"
      ],
      "metadata": {
        "id": "wk-9a2fpoLcV"
      },
      "execution_count": null,
      "outputs": []
    },
    {
      "cell_type": "code",
      "source": [
        "\n",
        "#looking for duplicated values\n",
        "\n",
        "hotelbookings[hotelbookings.duplicated()].shape"
      ],
      "metadata": {
        "id": "nQxYyi8dyZv-"
      },
      "execution_count": null,
      "outputs": []
    },
    {
      "cell_type": "code",
      "source": [
        "\n",
        "#dropping duplicate values\n",
        "hotelbookings.drop_duplicates(inplace=True)"
      ],
      "metadata": {
        "id": "CNr1svryybss"
      },
      "execution_count": null,
      "outputs": []
    },
    {
      "cell_type": "code",
      "source": [
        "#getting shape of dataframe after removing duplicates\n",
        "hotelbookings.shape"
      ],
      "metadata": {
        "id": "o_2qybhhyig3"
      },
      "execution_count": null,
      "outputs": []
    },
    {
      "cell_type": "code",
      "source": [
        "\n",
        "#handelling missing values\n",
        "\n",
        "hotelbookings.isnull().sum()"
      ],
      "metadata": {
        "id": "RV9O2rVYymxP"
      },
      "execution_count": null,
      "outputs": []
    },
    {
      "cell_type": "code",
      "source": [
        "\n",
        "#replacing the missing values with appropriate values in dataframe\n",
        "\n",
        "hotelbookings['company'].fillna(0,inplace =True)\n",
        "hotelbookings['agent'].fillna(0,inplace =True)\n",
        "\n",
        "\n",
        "hotelbookings['country'].fillna('unknown',inplace =True)\n",
        "\n",
        "hotelbookings.isnull().sum()"
      ],
      "metadata": {
        "id": "81YcI3dzyp3r"
      },
      "execution_count": null,
      "outputs": []
    },
    {
      "cell_type": "code",
      "source": [
        "\n",
        "#still column children have 4 missing/null values\n",
        "# we will replace them with mean values of children\n",
        "\n",
        "hotelbookings['children'].fillna(hotelbookings['children'].mean(),inplace =True)"
      ],
      "metadata": {
        "id": "spS-FXKEyudJ"
      },
      "execution_count": null,
      "outputs": []
    },
    {
      "cell_type": "code",
      "source": [
        "\n",
        "#confirming all null values are removed or not and whats the final data\n",
        "\n",
        "hotelbookings.isnull().sum()\n",
        ""
      ],
      "metadata": {
        "id": "yYLyOi4oyyuY"
      },
      "execution_count": null,
      "outputs": []
    },
    {
      "cell_type": "code",
      "source": [
        "\n",
        "#Converting datatype of columns 'children', 'company' and 'agent' from float to int.\n",
        "hotelbookings['children'] = hotelbookings['children'].astype(int)\n",
        "hotelbookings['company'] = hotelbookings['company'].astype(int)\n",
        "hotelbookings['agent'] = hotelbookings['agent'].astype(int)"
      ],
      "metadata": {
        "id": "RRD7Al9My3TF"
      },
      "execution_count": null,
      "outputs": []
    },
    {
      "cell_type": "code",
      "source": [
        "\n",
        "# Adding total_guests column = adults + children + babies\n",
        "hotelbookings['total_guests'] = hotelbookings['adults'] + hotelbookings['children'] + hotelbookings['babies']\n",
        "\n",
        "# Adding total_nights_stayed = stayed in weekend nights + stayed in week nights\n",
        "hotelbookings['total_nights_stayed'] = hotelbookings['stays_in_weekend_nights'] + hotelbookings['stays_in_week_nights']"
      ],
      "metadata": {
        "id": "SBF1H6iSy-eL"
      },
      "execution_count": null,
      "outputs": []
    },
    {
      "cell_type": "markdown",
      "source": [
        "### What all manipulations have you done and insights you found?"
      ],
      "metadata": {
        "id": "MSa1f5Uengrz"
      }
    },
    {
      "cell_type": "markdown",
      "source": [
        "Answer Here."
      ],
      "metadata": {
        "id": "LbyXE7I1olp8"
      }
    },
    {
      "cell_type": "markdown",
      "source": [
        "## ***4. Data Vizualization, Storytelling & Experimenting with charts : Understand the relationships between variables***"
      ],
      "metadata": {
        "id": "GF8Ens_Soomf"
      }
    },
    {
      "cell_type": "markdown",
      "source": [
        "#### Chart - 1"
      ],
      "metadata": {
        "id": "0wOQAZs5pc--"
      }
    },
    {
      "cell_type": "code",
      "source": [
        "# Chart - 1 visualization code\n",
        "\n",
        "hotelbookings.head()"
      ],
      "metadata": {
        "id": "7v_ESjsspbW7"
      },
      "execution_count": null,
      "outputs": []
    },
    {
      "cell_type": "code",
      "source": [
        "\n",
        "# Chart - 1 visualization code\n",
        "#Distribution of Bookings by Hotel Type\n",
        "\n",
        "#custom colors for the bars\n",
        "colors = ['red', 'green']\n",
        "\n",
        "# bar plot with custom colors\n",
        "plt.bar(hotelbookings['hotel'].value_counts().index,hotelbookings['hotel'].value_counts().values, color=colors)\n",
        "plt.xlabel('Hotel Type')\n",
        "plt.ylabel('Number of Bookings')\n",
        "plt.title('Distribution of Bookings by Hotel Type')\n",
        "plt.show()"
      ],
      "metadata": {
        "id": "kaEJborBzK64"
      },
      "execution_count": null,
      "outputs": []
    },
    {
      "cell_type": "markdown",
      "source": [
        "##### 1. Why did you pick the specific chart?"
      ],
      "metadata": {
        "id": "K5QZ13OEpz2H"
      }
    },
    {
      "cell_type": "markdown",
      "source": [
        "I pick this specific chart because it was best suited for showing the results of the frequency of bookings as per the type of hotels we had in the data"
      ],
      "metadata": {
        "id": "XESiWehPqBRc"
      }
    },
    {
      "cell_type": "markdown",
      "source": [
        "##### 2. What is/are the insight(s) found from the chart?"
      ],
      "metadata": {
        "id": "lQ7QKXXCp7Bj"
      }
    },
    {
      "cell_type": "markdown",
      "source": [
        "I found that the city hotels are mostly preferred by the people as compared to the resort hotel"
      ],
      "metadata": {
        "id": "C_j1G7yiqdRP"
      }
    },
    {
      "cell_type": "markdown",
      "source": [
        "##### 3. Will the gained insights help creating a positive business impact?\n",
        "Are there any insights that lead to negative growth? Justify with specific reason."
      ],
      "metadata": {
        "id": "448CDAPjqfQr"
      }
    },
    {
      "cell_type": "markdown",
      "source": [
        "As i think the city hotels are preferred more than resort hotels because of the pricing so stakeholders can save their money by investing less in resort hotel and using that amount in growing city hotels more."
      ],
      "metadata": {
        "id": "3cspy4FjqxJW"
      }
    },
    {
      "cell_type": "markdown",
      "source": [
        "#### Chart - 2"
      ],
      "metadata": {
        "id": "KSlN3yHqYklG"
      }
    },
    {
      "cell_type": "code",
      "source": [
        "# Chart - 2 visualization code          # MARKET SEGMENT MOST BOOKING\n",
        "plt.figure(figsize=(15,5))\n",
        "sns.countplot(x=hotelbookings['market_segment'], order = hotelbookings['market_segment'].value_counts().index)\n",
        "plt.title('Share of Market segment  in booking', fontsize=20)\n",
        "plt.show()"
      ],
      "metadata": {
        "id": "R4YgtaqtYklH"
      },
      "execution_count": null,
      "outputs": []
    },
    {
      "cell_type": "markdown",
      "source": [
        "##### 1. Why did you pick the specific chart?"
      ],
      "metadata": {
        "id": "t6dVpIINYklI"
      }
    },
    {
      "cell_type": "markdown",
      "source": [
        "I pick this chart because it shows all the segments of market and their distribution in the hoel bookings"
      ],
      "metadata": {
        "id": "5aaW0BYyYklI"
      }
    },
    {
      "cell_type": "markdown",
      "source": [
        "##### 2. What is/are the insight(s) found from the chart?"
      ],
      "metadata": {
        "id": "ijmpgYnKYklI"
      }
    },
    {
      "cell_type": "markdown",
      "source": [
        "From this chart we found that the most revenue earned was recieved by the online TA from market segment"
      ],
      "metadata": {
        "id": "PSx9atu2YklI"
      }
    },
    {
      "cell_type": "markdown",
      "source": [
        "##### 3. Will the gained insights help creating a positive business impact?\n",
        "Are there any insights that lead to negative growth? Justify with specific reason."
      ],
      "metadata": {
        "id": "-JiQyfWJYklI"
      }
    },
    {
      "cell_type": "markdown",
      "source": [
        "Are there any insights that lead to negative growth? Justify with specific reason.\n",
        "\n",
        "No there are not that much negative insights that lead to negative growth as mostly the usual customers are from general category and other are in minority which gives us less revenue, but still stakeholders should focus in makings efforts for the segments of market which are not getting involved so that the business can grow more rapidly."
      ],
      "metadata": {
        "id": "BcBbebzrYklV"
      }
    },
    {
      "cell_type": "markdown",
      "source": [
        "#### Chart - 3"
      ],
      "metadata": {
        "id": "EM7whBJCYoAo"
      }
    },
    {
      "cell_type": "code",
      "source": [
        "# Chart - 3 visualization code\n",
        "#Which is the most preferred Deposite Type\n",
        "\n",
        "\n",
        "# Chart - 3 visualization code\n",
        "\n",
        "# Counting deposite type\n",
        "deposite = hotelbookings['deposit_type'].value_counts().index\n",
        "\n",
        "# Setting chart size\n",
        "plt.figure(figsize=(8,4))\n",
        "\n",
        "# plotting values\n",
        "sns.countplot(x=hotelbookings['deposit_type'], order= deposite)\n",
        "plt.title('Most used deposite type')\n",
        "plt.show()"
      ],
      "metadata": {
        "id": "t6GMdE67YoAp"
      },
      "execution_count": null,
      "outputs": []
    },
    {
      "cell_type": "markdown",
      "source": [
        "##### 1. Why did you pick the specific chart?"
      ],
      "metadata": {
        "id": "fge-S5ZAYoAp"
      }
    },
    {
      "cell_type": "markdown",
      "source": [
        "This specific chart is showing the massive difference in payments type without applying much efforts in studying it."
      ],
      "metadata": {
        "id": "5dBItgRVYoAp"
      }
    },
    {
      "cell_type": "markdown",
      "source": [
        "##### 2. What is/are the insight(s) found from the chart?"
      ],
      "metadata": {
        "id": "85gYPyotYoAp"
      }
    },
    {
      "cell_type": "markdown",
      "source": [
        "The insights from the chart indicates that the customers want or prefer no upfront deposit type in place of Non Refund Deposite type or Refundable type."
      ],
      "metadata": {
        "id": "4jstXR6OYoAp"
      }
    },
    {
      "cell_type": "markdown",
      "source": [
        "##### 3. Will the gained insights help creating a positive business impact?\n",
        "Are there any insights that lead to negative growth? Justify with specific reason."
      ],
      "metadata": {
        "id": "RoGjAbkUYoAp"
      }
    },
    {
      "cell_type": "markdown",
      "source": [
        "There are no negative insights in this chart ,the stakeholders should make it only no deposite policy for attracting more customers as most of the time its the only mode preferred by the people.And that will also lead to the free publicity by the existing customers."
      ],
      "metadata": {
        "id": "zfJ8IqMcYoAp"
      }
    },
    {
      "cell_type": "markdown",
      "source": [
        "#### Chart - 4"
      ],
      "metadata": {
        "id": "4Of9eVA-YrdM"
      }
    },
    {
      "cell_type": "code",
      "source": [
        "# Chart - 4 visualization code\n",
        "#Bookings as per Reserved Room Type\n",
        "\n",
        "\n",
        "# Chart - 4 visualization code\n",
        "\n",
        "# Distribution of bookings according to the \"reserved_room_type\"\n",
        "\n",
        "# Plotting the count plot\n",
        "plt.figure(figsize=(10, 6))\n",
        "sns.countplot(x='reserved_room_type', hue='hotel', data=hotelbookings, palette='pastel')\n",
        "plt.xlabel('Reserved Room Type')\n",
        "plt.ylabel('Number of Bookings')\n",
        "plt.title('Distribution of Bookings by Reserved Room Type')\n",
        "plt.legend(title='Hotel Type', loc='upper right', labels=['Resort Hotel', 'City Hotel'])\n",
        "\n",
        "plt.show()"
      ],
      "metadata": {
        "id": "irlUoxc8YrdO"
      },
      "execution_count": null,
      "outputs": []
    },
    {
      "cell_type": "markdown",
      "source": [
        "##### 1. Why did you pick the specific chart?"
      ],
      "metadata": {
        "id": "iky9q4vBYrdO"
      }
    },
    {
      "cell_type": "markdown",
      "source": [
        "I pick this specific chart because it shows the quite easy comparison between the city and resort type hotel bookings."
      ],
      "metadata": {
        "id": "aJRCwT6DYrdO"
      }
    },
    {
      "cell_type": "markdown",
      "source": [
        "##### 2. What is/are the insight(s) found from the chart?"
      ],
      "metadata": {
        "id": "F6T5p64dYrdO"
      }
    },
    {
      "cell_type": "markdown",
      "source": [
        "we got the insights from the chart that in every timespan or quarter of year and months the city hotels are more preffered over resort hotels."
      ],
      "metadata": {
        "id": "Xx8WAJvtYrdO"
      }
    },
    {
      "cell_type": "markdown",
      "source": [
        "##### 3. Will the gained insights help creating a positive business impact?\n",
        "Are there any insights that lead to negative growth? Justify with specific reason."
      ],
      "metadata": {
        "id": "y-Ehk30pYrdP"
      }
    },
    {
      "cell_type": "markdown",
      "source": [
        "The gained insight was helpfull for the business growth as the stakeholder can focus on increasing the resort type hotel bookings for generating more revenue over the time."
      ],
      "metadata": {
        "id": "jLNxxz7MYrdP"
      }
    },
    {
      "cell_type": "markdown",
      "source": [
        "#### Chart - 5"
      ],
      "metadata": {
        "id": "bamQiAODYuh1"
      }
    },
    {
      "cell_type": "code",
      "source": [
        "# Chart - 5 visualization code\n",
        "#Waiting time Per Hotel Type\n",
        "\n",
        "\n",
        "# Chart - 5 visualization code\n",
        "\n",
        "# Grouping by hotel and taking the mean of days in waiting list\n",
        "waiting_time_df = hotelbookings.groupby('hotel')['days_in_waiting_list'].mean().reset_index()\n",
        "# Waiting_time_df\n",
        "\n",
        "# Setting the plot size\n",
        "plt.figure(figsize=(8,4))\n",
        "\n",
        "# Plotting the barchart\n",
        "sns.barplot(x=waiting_time_df['hotel'],y=waiting_time_df['days_in_waiting_list'])\n",
        "\n",
        "# Setting the labels\n",
        "plt.xlabel('Hotel type',fontsize=12)\n",
        "plt.ylabel('waiting time',fontsize=12)\n",
        "plt.title(\"Waiting time for each hotel type\",fontsize=20)\n",
        "\n",
        "# Show chart\n",
        "plt.show()"
      ],
      "metadata": {
        "id": "TIJwrbroYuh3"
      },
      "execution_count": null,
      "outputs": []
    },
    {
      "cell_type": "markdown",
      "source": [
        "##### 1. Why did you pick the specific chart?"
      ],
      "metadata": {
        "id": "QHF8YVU7Yuh3"
      }
    },
    {
      "cell_type": "markdown",
      "source": [
        "I pick this specific chart because it shows the quite easy comparison between the waiting time in city and resort type hotel bookings"
      ],
      "metadata": {
        "id": "dcxuIMRPYuh3"
      }
    },
    {
      "cell_type": "markdown",
      "source": [
        "##### 2. What is/are the insight(s) found from the chart?"
      ],
      "metadata": {
        "id": "GwzvFGzlYuh3"
      }
    },
    {
      "cell_type": "markdown",
      "source": [
        "The insights we found are that the city hotels are showing quite a lot more waiting time as compared to the resort hotels."
      ],
      "metadata": {
        "id": "uyqkiB8YYuh3"
      }
    },
    {
      "cell_type": "markdown",
      "source": [
        "##### 3. Will the gained insights help creating a positive business impact?\n",
        "Are there any insights that lead to negative growth? Justify with specific reason."
      ],
      "metadata": {
        "id": "qYpmQ266Yuh3"
      }
    },
    {
      "cell_type": "markdown",
      "source": [
        "As per the insights from the chart we observed that the waiting time is so much in city hotels which can lead to a negative marketing or bad reviews in future that can also affect the business negatively."
      ],
      "metadata": {
        "id": "_WtzZ_hCYuh4"
      }
    },
    {
      "cell_type": "markdown",
      "source": [
        "#### Chart - 6"
      ],
      "metadata": {
        "id": "OH-pJp9IphqM"
      }
    },
    {
      "cell_type": "code",
      "source": [
        "# Chart - 6 visualization code\n",
        "#Hotel Making Most Money\n",
        "# Counting the revnue for each hotel type using groupby function\n",
        "most_rev = hotelbookings.groupby('hotel')['adr'].count()\n",
        "\n",
        "# Plotting the values in a pie chart\n",
        "most_rev.plot.pie(autopct='%1.2f%%', figsize=(15,5))\n",
        "\n",
        "# Setting the title\n",
        "plt.title('Percentage of daily revenue by each hotel type', fontsize=20)\n",
        "plt.axis('equal')\n",
        "\n",
        "# Show the chart\n",
        "plt.show()"
      ],
      "metadata": {
        "id": "kuRf4wtuphqN"
      },
      "execution_count": null,
      "outputs": []
    },
    {
      "cell_type": "markdown",
      "source": [
        "##### 1. Why did you pick the specific chart?"
      ],
      "metadata": {
        "id": "bbFf2-_FphqN"
      }
    },
    {
      "cell_type": "markdown",
      "source": [
        "I pick this specific pie chart because it shows the difference between the revenue generated by city and resort type hotels."
      ],
      "metadata": {
        "id": "loh7H2nzphqN"
      }
    },
    {
      "cell_type": "markdown",
      "source": [
        "##### 2. What is/are the insight(s) found from the chart?"
      ],
      "metadata": {
        "id": "_ouA3fa0phqN"
      }
    },
    {
      "cell_type": "markdown",
      "source": [
        "Here we found are that the city hotels are showing more revenue generated as compared to the resort hotels"
      ],
      "metadata": {
        "id": "VECbqPI7phqN"
      }
    },
    {
      "cell_type": "markdown",
      "source": [
        "##### 3. Will the gained insights help creating a positive business impact?\n",
        "Are there any insights that lead to negative growth? Justify with specific reason."
      ],
      "metadata": {
        "id": "Seke61FWphqN"
      }
    },
    {
      "cell_type": "markdown",
      "source": [
        "There are not so much insights that lead to negative growth both the city and resort hotels are generating revenue as per the majority using the facilities."
      ],
      "metadata": {
        "id": "DW4_bGpfphqN"
      }
    },
    {
      "cell_type": "markdown",
      "source": [
        "#### Chart - 7"
      ],
      "metadata": {
        "id": "PIIx-8_IphqN"
      }
    },
    {
      "cell_type": "code",
      "source": [
        "# Chart - 7 visualization code\n",
        "#Type of customer havong most booking\n",
        "\n",
        "c_type = hotelbookings['customer_type'].value_counts()\n",
        "\n",
        "# Plotting the values in a line chart\n",
        "c_type.plot(figsize=(15,5))\n",
        "\n",
        "# Setting the x label , y label and title\n",
        "plt.xlabel('Customer Type', fontsize=12)\n",
        "plt.ylabel('Booking Count', fontsize=10)\n",
        "plt.title('Customer Type and Booking count', fontsize=20)\n",
        "\n",
        "# Show the chart\n",
        "plt.show()"
      ],
      "metadata": {
        "id": "lqAIGUfyphqO"
      },
      "execution_count": null,
      "outputs": []
    },
    {
      "cell_type": "markdown",
      "source": [
        "##### 1. Why did you pick the specific chart?"
      ],
      "metadata": {
        "id": "t27r6nlMphqO"
      }
    },
    {
      "cell_type": "markdown",
      "source": [
        "This plot is showing the linear decrease in the bookings as per the customer type"
      ],
      "metadata": {
        "id": "iv6ro40sphqO"
      }
    },
    {
      "cell_type": "markdown",
      "source": [
        "##### 2. What is/are the insight(s) found from the chart?"
      ],
      "metadata": {
        "id": "r2jJGEOYphqO"
      }
    },
    {
      "cell_type": "markdown",
      "source": [
        "Transient customer type are showing the maximum number of booking counts."
      ],
      "metadata": {
        "id": "Po6ZPi4hphqO"
      }
    },
    {
      "cell_type": "markdown",
      "source": [
        "##### 3. Will the gained insights help creating a positive business impact?\n",
        "Are there any insights that lead to negative growth? Justify with specific reason."
      ],
      "metadata": {
        "id": "b0JNsNcRphqO"
      }
    },
    {
      "cell_type": "markdown",
      "source": [
        "The gained insights will help the stakeholders to make efforts or ways to get transient-party,group and contracts more involved and choose the hotels so that the bookings counts will increase in all the types of customers."
      ],
      "metadata": {
        "id": "xvSq8iUTphqO"
      }
    },
    {
      "cell_type": "markdown",
      "source": [
        "#### Chart - 8"
      ],
      "metadata": {
        "id": "BZR9WyysphqO"
      }
    },
    {
      "cell_type": "code",
      "source": [
        "# Chart - 8 visualization code\n",
        "\n",
        "# Top 10 countries with the Most Guests\n",
        "\n",
        "# Grouping data by country and calculating total guests from each country\n",
        "guests_by_country = hotelbookings.groupby('country')['total_guests'].sum().reset_index()\n",
        "\n",
        "# Sorting data in descending order of total guests\n",
        "guests_by_country = guests_by_country.sort_values(by='total_guests', ascending=False)\n",
        "\n",
        "# Plotting the bar chart\n",
        "plt.figure(figsize=(12, 6))\n",
        "sns.barplot(x='country', y='total_guests', data=guests_by_country.head(10))\n",
        "plt.xlabel('Country')\n",
        "plt.ylabel('Total Guests')\n",
        "plt.title('Top 10 Countries with the Most Guests')\n",
        "plt.xticks(rotation=45)\n",
        "plt.show()"
      ],
      "metadata": {
        "id": "TdPTWpAVphqO"
      },
      "execution_count": null,
      "outputs": []
    },
    {
      "cell_type": "markdown",
      "source": [
        "##### 1. Why did you pick the specific chart?"
      ],
      "metadata": {
        "id": "jj7wYXLtphqO"
      }
    },
    {
      "cell_type": "markdown",
      "source": [
        "Because this chart is showing clearly the contribution of Top 10 Countries with the Most Guests in the hotel bookings."
      ],
      "metadata": {
        "id": "Ob8u6rCTphqO"
      }
    },
    {
      "cell_type": "markdown",
      "source": [
        "##### 2. What is/are the insight(s) found from the chart?"
      ],
      "metadata": {
        "id": "eZrbJ2SmphqO"
      }
    },
    {
      "cell_type": "markdown",
      "source": [
        "We found out the most guests arrived from which country and which country is providing most and least busniness to the stakeholders."
      ],
      "metadata": {
        "id": "mZtgC_hjphqO"
      }
    },
    {
      "cell_type": "markdown",
      "source": [
        "##### 3. Will the gained insights help creating a positive business impact?\n",
        "Are there any insights that lead to negative growth? Justify with specific reason."
      ],
      "metadata": {
        "id": "rFu4xreNphqO"
      }
    },
    {
      "cell_type": "markdown",
      "source": [
        "The graph showing the lower counts of different county bookings the stakeholders can provied the cuisines of those country which showing less interest in the hotels to attract to the hotels to make them feel like home."
      ],
      "metadata": {
        "id": "ey_0qi68phqO"
      }
    },
    {
      "cell_type": "markdown",
      "source": [
        "#### Chart - 9"
      ],
      "metadata": {
        "id": "YJ55k-q6phqO"
      }
    },
    {
      "cell_type": "code",
      "source": [
        "# Chart - 9 visualization code\n",
        "# Calculate the percentage of each meal type in the dataset\n",
        "meal_counts = hotelbookings['meal'].value_counts(normalize=True) * 100\n",
        "\n",
        "# Create a pie chart\n",
        "plt.figure(figsize=(8, 8))\n",
        "plt.pie(meal_counts, labels=meal_counts.index, autopct='%1.1f%%',colors=['lightgreen', 'skyblue', 'lightcoral', 'orange', 'pink'])\n",
        "plt.title('Distribution of Bookings by Meal Type')\n",
        "plt.show()"
      ],
      "metadata": {
        "id": "B2aS4O1ophqO"
      },
      "execution_count": null,
      "outputs": []
    },
    {
      "cell_type": "markdown",
      "source": [
        "##### 1. Why did you pick the specific chart?"
      ],
      "metadata": {
        "id": "gCFgpxoyphqP"
      }
    },
    {
      "cell_type": "markdown",
      "source": [
        "Because this chart is showing most and least preffered meal types easily."
      ],
      "metadata": {
        "id": "TVxDimi2phqP"
      }
    },
    {
      "cell_type": "markdown",
      "source": [
        "##### 2. What is/are the insight(s) found from the chart?"
      ],
      "metadata": {
        "id": "OVtJsKN_phqQ"
      }
    },
    {
      "cell_type": "markdown",
      "source": [
        "The chart showing different types of meals and there proportions of distribution."
      ],
      "metadata": {
        "id": "ngGi97qjphqQ"
      }
    },
    {
      "cell_type": "markdown",
      "source": [
        "##### 3. Will the gained insights help creating a positive business impact?\n",
        "Are there any insights that lead to negative growth? Justify with specific reason."
      ],
      "metadata": {
        "id": "lssrdh5qphqQ"
      }
    },
    {
      "cell_type": "markdown",
      "source": [
        "The insights can help removing the least preffered meal types and put the manpower into the mostly preffered meal preparation so that the service time can be improved."
      ],
      "metadata": {
        "id": "tBpY5ekJphqQ"
      }
    },
    {
      "cell_type": "markdown",
      "source": [
        "#### Chart - 10"
      ],
      "metadata": {
        "id": "U2RJ9gkRphqQ"
      }
    },
    {
      "cell_type": "code",
      "source": [
        "# Chart - 10 visualization code\n",
        "# Correlation Heatmap visualization\n",
        "# Setting the chart size\n",
        "plt.figure(figsize=(15,10))\n",
        "\n",
        "# Creating heatmap to see correlation of each columns\n",
        "sns.heatmap(hotelbookings.corr(numeric_only=True),annot=True)          # Setting the numeric only column to True for avoiding warnings\n",
        "\n",
        "# Setting the title\n",
        "plt.title('Correlation of the columns', fontsize=20)\n",
        "\n",
        "# Show heatmap\n",
        "plt.show()"
      ],
      "metadata": {
        "id": "GM7a4YP4phqQ"
      },
      "execution_count": null,
      "outputs": []
    },
    {
      "cell_type": "markdown",
      "source": [
        "##### 1. Why did you pick the specific chart?"
      ],
      "metadata": {
        "id": "1M8mcRywphqQ"
      }
    },
    {
      "cell_type": "markdown",
      "source": [
        "Correlation heatmaps was used to find potential relationships between variables and to understand the strength of these relationships."
      ],
      "metadata": {
        "id": "8agQvks0phqQ"
      }
    },
    {
      "cell_type": "markdown",
      "source": [
        "##### 2. What is/are the insight(s) found from the chart?"
      ],
      "metadata": {
        "id": "tgIPom80phqQ"
      }
    },
    {
      "cell_type": "markdown",
      "source": [
        "*lead_time and total_stay is positively corelated. that means if customers stay more then the lead time increases.\n",
        "\n",
        "*Adults,childrens and babies are corelated to each other. That means more the people more will be adr.\n",
        "\n",
        "*is_repeated guest and previous bookings not canceled has strong corelation. That means repeated guests don't cancel their bookings."
      ],
      "metadata": {
        "id": "Qp13pnNzphqQ"
      }
    },
    {
      "cell_type": "markdown",
      "source": [
        "##### 3. Will the gained insights help creating a positive business impact?\n",
        "Are there any insights that lead to negative growth? Justify with specific reason."
      ],
      "metadata": {
        "id": "JMzcOPDDphqR"
      }
    },
    {
      "cell_type": "markdown",
      "source": [
        "Are there any insights that lead to negative growth? Justify with specific reason."
      ],
      "metadata": {
        "id": "R4Ka1PC2phqR"
      }
    },
    {
      "cell_type": "markdown",
      "source": [
        "The business objective of the Hotel Booking EDA project is to gain insights into hotel booking patterns and customer behavior in order to optimize revenue and improve customer satisfaction. In order to achieve this objective, the following solution steps are recommended:\n",
        "\n",
        "Analyzing Booking Patterns:\n",
        "\n",
        "Explore the distribution of bookings based on hotel type (city/resort), season, and length of stay.\n",
        "Identify peak booking periods and develop strategies to optimize room availability and pricing during high-demand periods.\n",
        "Analyze the average length of stay to determine how it impacts revenue and resource allocation.\n",
        "Investigating Cancellations:\n",
        "\n",
        "Analyze the reasons behind booking cancellations, such as lead time, booking channel, and deposit policies.\n",
        "Identify common cancellation patterns and develop strategies to minimize cancellations, such as implementing stricter cancellation policies or offering incentives for non-refundable bookings.\n",
        "Optimizing Pricing:\n",
        "\n",
        "Conduct a pricing analysis based on variables such as hotel type, season, and customer segment.\n",
        "Identify pricing trends and patterns to optimize average daily rates (ADR) and maximize revenue.\n",
        "Consider implementing dynamic pricing strategies, such as adjusting rates during peak and off-peak periods or offering personalized pricing based on customer segments.\n",
        "Segmenting Customers:\n",
        "\n",
        "Utilize customer segmentation to target specific customer groups with tailored marketing messages and offers.\n",
        "Analyze customer preferences and behavior to create personalized experiences that cater to different customer segments.\n",
        "Implement loyalty programs or incentives targeted at specific customer segments to enhance their satisfaction and loyalty.\n",
        "Improving Customer Experience:\n",
        "\n",
        "Analyze customer reviews and ratings to identify areas of improvement in terms of customer experience.\n",
        "Focus on addressing common complaints and areas of dissatisfaction.\n",
        "Collect feedback from customers to understand their needs and expectations, and make necessary improvements to enhance overall guest experience.\n",
        "Forecasting and Demand Planning:\n",
        "\n",
        "Use historical booking data to forecast future demand and occupancy rates.\n",
        "Utilize the forecasting insights to optimize inventory management, allocate resources efficiently, and adjust staffing levels accordingly.\n",
        "Implement demand-driven pricing strategies to maximize revenue based on predicted demand.\n",
        "By implementing data-driven strategies based on the insights generated from the Hotel Booking EDA, hotels can enhance their operations, optimize revenue, and improve customer satisfaction. Regularly monitoring and analyzing these aspects can help hotels stay competitive and adapt to changing market dynamics."
      ],
      "metadata": {
        "id": "3_sjs3sN4mUO"
      }
    },
    {
      "cell_type": "markdown",
      "source": [
        "#### Chart - 11"
      ],
      "metadata": {
        "id": "x-EpHcCOp1ci"
      }
    },
    {
      "cell_type": "markdown",
      "source": [
        "# **Conclusion**"
      ],
      "metadata": {
        "id": "gCX9965dhzqZ"
      }
    },
    {
      "cell_type": "markdown",
      "source": [
        "Based on the analysis conducted in the Hotel Booking EDA project, the following conclusions can be drawn:\n",
        "\n",
        "1). Booking Patterns: The analysis revealed that there are variations in booking patterns between city hotels and resort hotels. It is important for hotel management to understand these patterns to accommodate the booking demands effectively.\n",
        "\n",
        "2). Cancellations: The cancellation rate is a crucial aspect in hotel bookings. Identifying the factors that contribute to cancellations can help in developing strategies to reduce cancellations and optimize hotel occupancy rates.\n",
        "\n",
        "3). Seasonal Trends: The analysis identified seasonal trends in hotel bookings, with peak periods during summer months. Recognizing these trends can aid in capacity planning and resource allocation during high-demand seasons.\n",
        "\n",
        "4). Lead Time: Understanding lead times, particularly for last-minute bookings, provides insights into customer behavior and preferences. This knowledge can help hotel management optimize revenue and adapt operations accordingly.\n",
        "\n",
        "5). Pricing Analysis: The evaluation of average daily rates (ADR) and its relationship with other variables provides valuable information for pricing strategies. By considering the impact of various factors on pricing, hotels can maximize revenue and stay competitive.\n",
        "\n",
        "6). Customer Segments: Analyzing customer segments allows hotels to tailor their services to better meet the needs and expectations of different groups. By understanding the characteristics and preferences of each segment, hotels can enhance customer satisfaction and loyalty.\n",
        "\n",
        "In summary, the Hotel Booking EDA project provides valuable insights for hotel management and stakeholders. By leveraging the findings on booking patterns, cancellations, seasonal trends, lead time, pricing analysis, and customer segments, hotels can make data-driven decisions to optimize pricing strategies, improve operational efficiency, and enhance overall customer satisfaction. These conclusions serve as a foundation for future improvements and advancements within the hotel industry."
      ],
      "metadata": {
        "id": "Fjb1IsQkh3yE"
      }
    },
    {
      "cell_type": "markdown",
      "source": [
        "### ***Hurrah! You have successfully completed your EDA Capstone Project !!!***"
      ],
      "metadata": {
        "id": "gIfDvo9L0UH2"
      }
    }
  ]
}